{
 "cells": [
  {
   "cell_type": "code",
   "execution_count": 1,
   "id": "d17bcfe8",
   "metadata": {
    "_cell_guid": "b1076dfc-b9ad-4769-8c92-a6c4dae69d19",
    "_uuid": "8f2839f25d086af736a60e9eeb907d3b93b6e0e5",
    "execution": {
     "iopub.execute_input": "2024-12-06T17:02:44.053230Z",
     "iopub.status.busy": "2024-12-06T17:02:44.052829Z",
     "iopub.status.idle": "2024-12-06T17:02:44.963030Z",
     "shell.execute_reply": "2024-12-06T17:02:44.962016Z"
    },
    "papermill": {
     "duration": 0.91926,
     "end_time": "2024-12-06T17:02:44.965393",
     "exception": false,
     "start_time": "2024-12-06T17:02:44.046133",
     "status": "completed"
    },
    "tags": []
   },
   "outputs": [
    {
     "name": "stdout",
     "output_type": "stream",
     "text": [
      "/kaggle/input/titanic/train.csv\n",
      "/kaggle/input/titanic/test.csv\n",
      "/kaggle/input/titanic/gender_submission.csv\n"
     ]
    }
   ],
   "source": [
    "# This Python 3 environment comes with many helpful analytics libraries installed\n",
    "# It is defined by the kaggle/python Docker image: https://github.com/kaggle/docker-python\n",
    "# For example, here's several helpful packages to load\n",
    "\n",
    "import numpy as np # linear algebra\n",
    "import pandas as pd # data processing, CSV file I/O (e.g. pd.read_csv)\n",
    "\n",
    "# Input data files are available in the read-only \"../input/\" directory\n",
    "# For example, running this (by clicking run or pressing Shift+Enter) will list all files under the input directory\n",
    "\n",
    "import os\n",
    "for dirname, _, filenames in os.walk('/kaggle/input'):\n",
    "    for filename in filenames:\n",
    "        print(os.path.join(dirname, filename))\n",
    "\n",
    "# You can write up to 20GB to the current directory (/kaggle/working/) that gets preserved as output when you create a version using \"Save & Run All\" \n",
    "# You can also write temporary files to /kaggle/temp/, but they won't be saved outside of the current session"
   ]
  },
  {
   "cell_type": "code",
   "execution_count": 2,
   "id": "4bad039d",
   "metadata": {
    "execution": {
     "iopub.execute_input": "2024-12-06T17:02:44.976647Z",
     "iopub.status.busy": "2024-12-06T17:02:44.976217Z",
     "iopub.status.idle": "2024-12-06T17:02:45.014053Z",
     "shell.execute_reply": "2024-12-06T17:02:45.013161Z"
    },
    "papermill": {
     "duration": 0.046018,
     "end_time": "2024-12-06T17:02:45.016391",
     "exception": false,
     "start_time": "2024-12-06T17:02:44.970373",
     "status": "completed"
    },
    "tags": []
   },
   "outputs": [],
   "source": [
    "data_train = pd.read_csv('/kaggle/input/titanic/train.csv')\n",
    "data_test = pd.read_csv('/kaggle/input/titanic/test.csv')\n",
    "sample_submission =pd.read_csv('/kaggle/input/titanic/gender_submission.csv')"
   ]
  },
  {
   "cell_type": "code",
   "execution_count": 3,
   "id": "0973db6f",
   "metadata": {
    "execution": {
     "iopub.execute_input": "2024-12-06T17:02:45.027447Z",
     "iopub.status.busy": "2024-12-06T17:02:45.027086Z",
     "iopub.status.idle": "2024-12-06T17:02:45.053670Z",
     "shell.execute_reply": "2024-12-06T17:02:45.052517Z"
    },
    "papermill": {
     "duration": 0.034545,
     "end_time": "2024-12-06T17:02:45.055878",
     "exception": false,
     "start_time": "2024-12-06T17:02:45.021333",
     "status": "completed"
    },
    "tags": []
   },
   "outputs": [
    {
     "data": {
      "text/html": [
       "<div>\n",
       "<style scoped>\n",
       "    .dataframe tbody tr th:only-of-type {\n",
       "        vertical-align: middle;\n",
       "    }\n",
       "\n",
       "    .dataframe tbody tr th {\n",
       "        vertical-align: top;\n",
       "    }\n",
       "\n",
       "    .dataframe thead th {\n",
       "        text-align: right;\n",
       "    }\n",
       "</style>\n",
       "<table border=\"1\" class=\"dataframe\">\n",
       "  <thead>\n",
       "    <tr style=\"text-align: right;\">\n",
       "      <th></th>\n",
       "      <th>PassengerId</th>\n",
       "      <th>Survived</th>\n",
       "      <th>Pclass</th>\n",
       "      <th>Name</th>\n",
       "      <th>Sex</th>\n",
       "      <th>Age</th>\n",
       "      <th>SibSp</th>\n",
       "      <th>Parch</th>\n",
       "      <th>Ticket</th>\n",
       "      <th>Fare</th>\n",
       "      <th>Cabin</th>\n",
       "      <th>Embarked</th>\n",
       "    </tr>\n",
       "  </thead>\n",
       "  <tbody>\n",
       "    <tr>\n",
       "      <th>0</th>\n",
       "      <td>1</td>\n",
       "      <td>0</td>\n",
       "      <td>3</td>\n",
       "      <td>Braund, Mr. Owen Harris</td>\n",
       "      <td>male</td>\n",
       "      <td>22.0</td>\n",
       "      <td>1</td>\n",
       "      <td>0</td>\n",
       "      <td>A/5 21171</td>\n",
       "      <td>7.2500</td>\n",
       "      <td>NaN</td>\n",
       "      <td>S</td>\n",
       "    </tr>\n",
       "    <tr>\n",
       "      <th>1</th>\n",
       "      <td>2</td>\n",
       "      <td>1</td>\n",
       "      <td>1</td>\n",
       "      <td>Cumings, Mrs. John Bradley (Florence Briggs Th...</td>\n",
       "      <td>female</td>\n",
       "      <td>38.0</td>\n",
       "      <td>1</td>\n",
       "      <td>0</td>\n",
       "      <td>PC 17599</td>\n",
       "      <td>71.2833</td>\n",
       "      <td>C85</td>\n",
       "      <td>C</td>\n",
       "    </tr>\n",
       "    <tr>\n",
       "      <th>2</th>\n",
       "      <td>3</td>\n",
       "      <td>1</td>\n",
       "      <td>3</td>\n",
       "      <td>Heikkinen, Miss. Laina</td>\n",
       "      <td>female</td>\n",
       "      <td>26.0</td>\n",
       "      <td>0</td>\n",
       "      <td>0</td>\n",
       "      <td>STON/O2. 3101282</td>\n",
       "      <td>7.9250</td>\n",
       "      <td>NaN</td>\n",
       "      <td>S</td>\n",
       "    </tr>\n",
       "    <tr>\n",
       "      <th>3</th>\n",
       "      <td>4</td>\n",
       "      <td>1</td>\n",
       "      <td>1</td>\n",
       "      <td>Futrelle, Mrs. Jacques Heath (Lily May Peel)</td>\n",
       "      <td>female</td>\n",
       "      <td>35.0</td>\n",
       "      <td>1</td>\n",
       "      <td>0</td>\n",
       "      <td>113803</td>\n",
       "      <td>53.1000</td>\n",
       "      <td>C123</td>\n",
       "      <td>S</td>\n",
       "    </tr>\n",
       "    <tr>\n",
       "      <th>4</th>\n",
       "      <td>5</td>\n",
       "      <td>0</td>\n",
       "      <td>3</td>\n",
       "      <td>Allen, Mr. William Henry</td>\n",
       "      <td>male</td>\n",
       "      <td>35.0</td>\n",
       "      <td>0</td>\n",
       "      <td>0</td>\n",
       "      <td>373450</td>\n",
       "      <td>8.0500</td>\n",
       "      <td>NaN</td>\n",
       "      <td>S</td>\n",
       "    </tr>\n",
       "    <tr>\n",
       "      <th>5</th>\n",
       "      <td>6</td>\n",
       "      <td>0</td>\n",
       "      <td>3</td>\n",
       "      <td>Moran, Mr. James</td>\n",
       "      <td>male</td>\n",
       "      <td>NaN</td>\n",
       "      <td>0</td>\n",
       "      <td>0</td>\n",
       "      <td>330877</td>\n",
       "      <td>8.4583</td>\n",
       "      <td>NaN</td>\n",
       "      <td>Q</td>\n",
       "    </tr>\n",
       "    <tr>\n",
       "      <th>6</th>\n",
       "      <td>7</td>\n",
       "      <td>0</td>\n",
       "      <td>1</td>\n",
       "      <td>McCarthy, Mr. Timothy J</td>\n",
       "      <td>male</td>\n",
       "      <td>54.0</td>\n",
       "      <td>0</td>\n",
       "      <td>0</td>\n",
       "      <td>17463</td>\n",
       "      <td>51.8625</td>\n",
       "      <td>E46</td>\n",
       "      <td>S</td>\n",
       "    </tr>\n",
       "    <tr>\n",
       "      <th>7</th>\n",
       "      <td>8</td>\n",
       "      <td>0</td>\n",
       "      <td>3</td>\n",
       "      <td>Palsson, Master. Gosta Leonard</td>\n",
       "      <td>male</td>\n",
       "      <td>2.0</td>\n",
       "      <td>3</td>\n",
       "      <td>1</td>\n",
       "      <td>349909</td>\n",
       "      <td>21.0750</td>\n",
       "      <td>NaN</td>\n",
       "      <td>S</td>\n",
       "    </tr>\n",
       "    <tr>\n",
       "      <th>8</th>\n",
       "      <td>9</td>\n",
       "      <td>1</td>\n",
       "      <td>3</td>\n",
       "      <td>Johnson, Mrs. Oscar W (Elisabeth Vilhelmina Berg)</td>\n",
       "      <td>female</td>\n",
       "      <td>27.0</td>\n",
       "      <td>0</td>\n",
       "      <td>2</td>\n",
       "      <td>347742</td>\n",
       "      <td>11.1333</td>\n",
       "      <td>NaN</td>\n",
       "      <td>S</td>\n",
       "    </tr>\n",
       "    <tr>\n",
       "      <th>9</th>\n",
       "      <td>10</td>\n",
       "      <td>1</td>\n",
       "      <td>2</td>\n",
       "      <td>Nasser, Mrs. Nicholas (Adele Achem)</td>\n",
       "      <td>female</td>\n",
       "      <td>14.0</td>\n",
       "      <td>1</td>\n",
       "      <td>0</td>\n",
       "      <td>237736</td>\n",
       "      <td>30.0708</td>\n",
       "      <td>NaN</td>\n",
       "      <td>C</td>\n",
       "    </tr>\n",
       "  </tbody>\n",
       "</table>\n",
       "</div>"
      ],
      "text/plain": [
       "   PassengerId  Survived  Pclass  \\\n",
       "0            1         0       3   \n",
       "1            2         1       1   \n",
       "2            3         1       3   \n",
       "3            4         1       1   \n",
       "4            5         0       3   \n",
       "5            6         0       3   \n",
       "6            7         0       1   \n",
       "7            8         0       3   \n",
       "8            9         1       3   \n",
       "9           10         1       2   \n",
       "\n",
       "                                                Name     Sex   Age  SibSp  \\\n",
       "0                            Braund, Mr. Owen Harris    male  22.0      1   \n",
       "1  Cumings, Mrs. John Bradley (Florence Briggs Th...  female  38.0      1   \n",
       "2                             Heikkinen, Miss. Laina  female  26.0      0   \n",
       "3       Futrelle, Mrs. Jacques Heath (Lily May Peel)  female  35.0      1   \n",
       "4                           Allen, Mr. William Henry    male  35.0      0   \n",
       "5                                   Moran, Mr. James    male   NaN      0   \n",
       "6                            McCarthy, Mr. Timothy J    male  54.0      0   \n",
       "7                     Palsson, Master. Gosta Leonard    male   2.0      3   \n",
       "8  Johnson, Mrs. Oscar W (Elisabeth Vilhelmina Berg)  female  27.0      0   \n",
       "9                Nasser, Mrs. Nicholas (Adele Achem)  female  14.0      1   \n",
       "\n",
       "   Parch            Ticket     Fare Cabin Embarked  \n",
       "0      0         A/5 21171   7.2500   NaN        S  \n",
       "1      0          PC 17599  71.2833   C85        C  \n",
       "2      0  STON/O2. 3101282   7.9250   NaN        S  \n",
       "3      0            113803  53.1000  C123        S  \n",
       "4      0            373450   8.0500   NaN        S  \n",
       "5      0            330877   8.4583   NaN        Q  \n",
       "6      0             17463  51.8625   E46        S  \n",
       "7      1            349909  21.0750   NaN        S  \n",
       "8      2            347742  11.1333   NaN        S  \n",
       "9      0            237736  30.0708   NaN        C  "
      ]
     },
     "execution_count": 3,
     "metadata": {},
     "output_type": "execute_result"
    }
   ],
   "source": [
    "data_train.head(10)"
   ]
  },
  {
   "cell_type": "code",
   "execution_count": 4,
   "id": "6335d1b4",
   "metadata": {
    "execution": {
     "iopub.execute_input": "2024-12-06T17:02:45.067539Z",
     "iopub.status.busy": "2024-12-06T17:02:45.067166Z",
     "iopub.status.idle": "2024-12-06T17:02:45.081830Z",
     "shell.execute_reply": "2024-12-06T17:02:45.080823Z"
    },
    "papermill": {
     "duration": 0.023036,
     "end_time": "2024-12-06T17:02:45.084114",
     "exception": false,
     "start_time": "2024-12-06T17:02:45.061078",
     "status": "completed"
    },
    "tags": []
   },
   "outputs": [
    {
     "data": {
      "text/html": [
       "<div>\n",
       "<style scoped>\n",
       "    .dataframe tbody tr th:only-of-type {\n",
       "        vertical-align: middle;\n",
       "    }\n",
       "\n",
       "    .dataframe tbody tr th {\n",
       "        vertical-align: top;\n",
       "    }\n",
       "\n",
       "    .dataframe thead th {\n",
       "        text-align: right;\n",
       "    }\n",
       "</style>\n",
       "<table border=\"1\" class=\"dataframe\">\n",
       "  <thead>\n",
       "    <tr style=\"text-align: right;\">\n",
       "      <th></th>\n",
       "      <th>PassengerId</th>\n",
       "      <th>Pclass</th>\n",
       "      <th>Name</th>\n",
       "      <th>Sex</th>\n",
       "      <th>Age</th>\n",
       "      <th>SibSp</th>\n",
       "      <th>Parch</th>\n",
       "      <th>Ticket</th>\n",
       "      <th>Fare</th>\n",
       "      <th>Cabin</th>\n",
       "      <th>Embarked</th>\n",
       "    </tr>\n",
       "  </thead>\n",
       "  <tbody>\n",
       "    <tr>\n",
       "      <th>0</th>\n",
       "      <td>892</td>\n",
       "      <td>3</td>\n",
       "      <td>Kelly, Mr. James</td>\n",
       "      <td>male</td>\n",
       "      <td>34.5</td>\n",
       "      <td>0</td>\n",
       "      <td>0</td>\n",
       "      <td>330911</td>\n",
       "      <td>7.8292</td>\n",
       "      <td>NaN</td>\n",
       "      <td>Q</td>\n",
       "    </tr>\n",
       "    <tr>\n",
       "      <th>1</th>\n",
       "      <td>893</td>\n",
       "      <td>3</td>\n",
       "      <td>Wilkes, Mrs. James (Ellen Needs)</td>\n",
       "      <td>female</td>\n",
       "      <td>47.0</td>\n",
       "      <td>1</td>\n",
       "      <td>0</td>\n",
       "      <td>363272</td>\n",
       "      <td>7.0000</td>\n",
       "      <td>NaN</td>\n",
       "      <td>S</td>\n",
       "    </tr>\n",
       "    <tr>\n",
       "      <th>2</th>\n",
       "      <td>894</td>\n",
       "      <td>2</td>\n",
       "      <td>Myles, Mr. Thomas Francis</td>\n",
       "      <td>male</td>\n",
       "      <td>62.0</td>\n",
       "      <td>0</td>\n",
       "      <td>0</td>\n",
       "      <td>240276</td>\n",
       "      <td>9.6875</td>\n",
       "      <td>NaN</td>\n",
       "      <td>Q</td>\n",
       "    </tr>\n",
       "    <tr>\n",
       "      <th>3</th>\n",
       "      <td>895</td>\n",
       "      <td>3</td>\n",
       "      <td>Wirz, Mr. Albert</td>\n",
       "      <td>male</td>\n",
       "      <td>27.0</td>\n",
       "      <td>0</td>\n",
       "      <td>0</td>\n",
       "      <td>315154</td>\n",
       "      <td>8.6625</td>\n",
       "      <td>NaN</td>\n",
       "      <td>S</td>\n",
       "    </tr>\n",
       "    <tr>\n",
       "      <th>4</th>\n",
       "      <td>896</td>\n",
       "      <td>3</td>\n",
       "      <td>Hirvonen, Mrs. Alexander (Helga E Lindqvist)</td>\n",
       "      <td>female</td>\n",
       "      <td>22.0</td>\n",
       "      <td>1</td>\n",
       "      <td>1</td>\n",
       "      <td>3101298</td>\n",
       "      <td>12.2875</td>\n",
       "      <td>NaN</td>\n",
       "      <td>S</td>\n",
       "    </tr>\n",
       "  </tbody>\n",
       "</table>\n",
       "</div>"
      ],
      "text/plain": [
       "   PassengerId  Pclass                                          Name     Sex  \\\n",
       "0          892       3                              Kelly, Mr. James    male   \n",
       "1          893       3              Wilkes, Mrs. James (Ellen Needs)  female   \n",
       "2          894       2                     Myles, Mr. Thomas Francis    male   \n",
       "3          895       3                              Wirz, Mr. Albert    male   \n",
       "4          896       3  Hirvonen, Mrs. Alexander (Helga E Lindqvist)  female   \n",
       "\n",
       "    Age  SibSp  Parch   Ticket     Fare Cabin Embarked  \n",
       "0  34.5      0      0   330911   7.8292   NaN        Q  \n",
       "1  47.0      1      0   363272   7.0000   NaN        S  \n",
       "2  62.0      0      0   240276   9.6875   NaN        Q  \n",
       "3  27.0      0      0   315154   8.6625   NaN        S  \n",
       "4  22.0      1      1  3101298  12.2875   NaN        S  "
      ]
     },
     "execution_count": 4,
     "metadata": {},
     "output_type": "execute_result"
    }
   ],
   "source": [
    "data_test.head()"
   ]
  },
  {
   "cell_type": "code",
   "execution_count": 5,
   "id": "a911846d",
   "metadata": {
    "execution": {
     "iopub.execute_input": "2024-12-06T17:02:45.097163Z",
     "iopub.status.busy": "2024-12-06T17:02:45.096112Z",
     "iopub.status.idle": "2024-12-06T17:02:45.106476Z",
     "shell.execute_reply": "2024-12-06T17:02:45.105505Z"
    },
    "papermill": {
     "duration": 0.01882,
     "end_time": "2024-12-06T17:02:45.108499",
     "exception": false,
     "start_time": "2024-12-06T17:02:45.089679",
     "status": "completed"
    },
    "tags": []
   },
   "outputs": [],
   "source": [
    "data_train[\"Sex\"] = data_train[\"Sex\"].map({\"male\": 1 , \"female\" : 0})\n",
    "data_test[\"Sex\"] = data_test[\"Sex\"].map({\"male\": 1 , \"female\" : 0})"
   ]
  },
  {
   "cell_type": "code",
   "execution_count": 6,
   "id": "3af36e95",
   "metadata": {
    "execution": {
     "iopub.execute_input": "2024-12-06T17:02:45.121467Z",
     "iopub.status.busy": "2024-12-06T17:02:45.121105Z",
     "iopub.status.idle": "2024-12-06T17:02:45.130837Z",
     "shell.execute_reply": "2024-12-06T17:02:45.129469Z"
    },
    "papermill": {
     "duration": 0.018901,
     "end_time": "2024-12-06T17:02:45.133154",
     "exception": false,
     "start_time": "2024-12-06T17:02:45.114253",
     "status": "completed"
    },
    "tags": []
   },
   "outputs": [],
   "source": [
    "data_train[\"Embarked\"] = data_train[\"Embarked\"].map({\"Q\" : 2 ,\"S\": 1 , \"C\" : 0})\n",
    "data_test[\"Embarked\"] = data_test[\"Embarked\"].map({\"Q\" : 2 ,\"S\": 1 , \"C\" : 0})"
   ]
  },
  {
   "cell_type": "code",
   "execution_count": 7,
   "id": "17a6142b",
   "metadata": {
    "execution": {
     "iopub.execute_input": "2024-12-06T17:02:45.145420Z",
     "iopub.status.busy": "2024-12-06T17:02:45.145051Z",
     "iopub.status.idle": "2024-12-06T17:02:45.155794Z",
     "shell.execute_reply": "2024-12-06T17:02:45.154719Z"
    },
    "papermill": {
     "duration": 0.019233,
     "end_time": "2024-12-06T17:02:45.157856",
     "exception": false,
     "start_time": "2024-12-06T17:02:45.138623",
     "status": "completed"
    },
    "tags": []
   },
   "outputs": [
    {
     "data": {
      "text/plain": [
       "PassengerId      0\n",
       "Survived         0\n",
       "Pclass           0\n",
       "Name             0\n",
       "Sex              0\n",
       "Age            177\n",
       "SibSp            0\n",
       "Parch            0\n",
       "Ticket           0\n",
       "Fare             0\n",
       "Cabin          687\n",
       "Embarked         2\n",
       "dtype: int64"
      ]
     },
     "execution_count": 7,
     "metadata": {},
     "output_type": "execute_result"
    }
   ],
   "source": [
    "data_train.isnull().sum()"
   ]
  },
  {
   "cell_type": "code",
   "execution_count": 8,
   "id": "8e1a27f2",
   "metadata": {
    "execution": {
     "iopub.execute_input": "2024-12-06T17:02:45.170708Z",
     "iopub.status.busy": "2024-12-06T17:02:45.170371Z",
     "iopub.status.idle": "2024-12-06T17:02:45.178324Z",
     "shell.execute_reply": "2024-12-06T17:02:45.177381Z"
    },
    "papermill": {
     "duration": 0.016797,
     "end_time": "2024-12-06T17:02:45.180304",
     "exception": false,
     "start_time": "2024-12-06T17:02:45.163507",
     "status": "completed"
    },
    "tags": []
   },
   "outputs": [
    {
     "data": {
      "text/plain": [
       "PassengerId      0\n",
       "Pclass           0\n",
       "Name             0\n",
       "Sex              0\n",
       "Age             86\n",
       "SibSp            0\n",
       "Parch            0\n",
       "Ticket           0\n",
       "Fare             1\n",
       "Cabin          327\n",
       "Embarked         0\n",
       "dtype: int64"
      ]
     },
     "execution_count": 8,
     "metadata": {},
     "output_type": "execute_result"
    }
   ],
   "source": [
    "data_test.isnull().sum()"
   ]
  },
  {
   "cell_type": "code",
   "execution_count": 9,
   "id": "9860ab39",
   "metadata": {
    "execution": {
     "iopub.execute_input": "2024-12-06T17:02:45.193809Z",
     "iopub.status.busy": "2024-12-06T17:02:45.193477Z",
     "iopub.status.idle": "2024-12-06T17:02:45.228459Z",
     "shell.execute_reply": "2024-12-06T17:02:45.227466Z"
    },
    "papermill": {
     "duration": 0.044691,
     "end_time": "2024-12-06T17:02:45.230592",
     "exception": false,
     "start_time": "2024-12-06T17:02:45.185901",
     "status": "completed"
    },
    "tags": []
   },
   "outputs": [
    {
     "data": {
      "text/html": [
       "<div>\n",
       "<style scoped>\n",
       "    .dataframe tbody tr th:only-of-type {\n",
       "        vertical-align: middle;\n",
       "    }\n",
       "\n",
       "    .dataframe tbody tr th {\n",
       "        vertical-align: top;\n",
       "    }\n",
       "\n",
       "    .dataframe thead th {\n",
       "        text-align: right;\n",
       "    }\n",
       "</style>\n",
       "<table border=\"1\" class=\"dataframe\">\n",
       "  <thead>\n",
       "    <tr style=\"text-align: right;\">\n",
       "      <th></th>\n",
       "      <th>PassengerId</th>\n",
       "      <th>Survived</th>\n",
       "      <th>Pclass</th>\n",
       "      <th>Sex</th>\n",
       "      <th>Age</th>\n",
       "      <th>SibSp</th>\n",
       "      <th>Parch</th>\n",
       "      <th>Fare</th>\n",
       "      <th>Embarked</th>\n",
       "    </tr>\n",
       "  </thead>\n",
       "  <tbody>\n",
       "    <tr>\n",
       "      <th>count</th>\n",
       "      <td>891.000000</td>\n",
       "      <td>891.000000</td>\n",
       "      <td>891.000000</td>\n",
       "      <td>891.000000</td>\n",
       "      <td>714.000000</td>\n",
       "      <td>891.000000</td>\n",
       "      <td>891.000000</td>\n",
       "      <td>891.000000</td>\n",
       "      <td>889.000000</td>\n",
       "    </tr>\n",
       "    <tr>\n",
       "      <th>mean</th>\n",
       "      <td>446.000000</td>\n",
       "      <td>0.383838</td>\n",
       "      <td>2.308642</td>\n",
       "      <td>0.647587</td>\n",
       "      <td>29.699118</td>\n",
       "      <td>0.523008</td>\n",
       "      <td>0.381594</td>\n",
       "      <td>32.204208</td>\n",
       "      <td>0.897638</td>\n",
       "    </tr>\n",
       "    <tr>\n",
       "      <th>std</th>\n",
       "      <td>257.353842</td>\n",
       "      <td>0.486592</td>\n",
       "      <td>0.836071</td>\n",
       "      <td>0.477990</td>\n",
       "      <td>14.526497</td>\n",
       "      <td>1.102743</td>\n",
       "      <td>0.806057</td>\n",
       "      <td>49.693429</td>\n",
       "      <td>0.515181</td>\n",
       "    </tr>\n",
       "    <tr>\n",
       "      <th>min</th>\n",
       "      <td>1.000000</td>\n",
       "      <td>0.000000</td>\n",
       "      <td>1.000000</td>\n",
       "      <td>0.000000</td>\n",
       "      <td>0.420000</td>\n",
       "      <td>0.000000</td>\n",
       "      <td>0.000000</td>\n",
       "      <td>0.000000</td>\n",
       "      <td>0.000000</td>\n",
       "    </tr>\n",
       "    <tr>\n",
       "      <th>25%</th>\n",
       "      <td>223.500000</td>\n",
       "      <td>0.000000</td>\n",
       "      <td>2.000000</td>\n",
       "      <td>0.000000</td>\n",
       "      <td>20.125000</td>\n",
       "      <td>0.000000</td>\n",
       "      <td>0.000000</td>\n",
       "      <td>7.910400</td>\n",
       "      <td>1.000000</td>\n",
       "    </tr>\n",
       "    <tr>\n",
       "      <th>50%</th>\n",
       "      <td>446.000000</td>\n",
       "      <td>0.000000</td>\n",
       "      <td>3.000000</td>\n",
       "      <td>1.000000</td>\n",
       "      <td>28.000000</td>\n",
       "      <td>0.000000</td>\n",
       "      <td>0.000000</td>\n",
       "      <td>14.454200</td>\n",
       "      <td>1.000000</td>\n",
       "    </tr>\n",
       "    <tr>\n",
       "      <th>75%</th>\n",
       "      <td>668.500000</td>\n",
       "      <td>1.000000</td>\n",
       "      <td>3.000000</td>\n",
       "      <td>1.000000</td>\n",
       "      <td>38.000000</td>\n",
       "      <td>1.000000</td>\n",
       "      <td>0.000000</td>\n",
       "      <td>31.000000</td>\n",
       "      <td>1.000000</td>\n",
       "    </tr>\n",
       "    <tr>\n",
       "      <th>max</th>\n",
       "      <td>891.000000</td>\n",
       "      <td>1.000000</td>\n",
       "      <td>3.000000</td>\n",
       "      <td>1.000000</td>\n",
       "      <td>80.000000</td>\n",
       "      <td>8.000000</td>\n",
       "      <td>6.000000</td>\n",
       "      <td>512.329200</td>\n",
       "      <td>2.000000</td>\n",
       "    </tr>\n",
       "  </tbody>\n",
       "</table>\n",
       "</div>"
      ],
      "text/plain": [
       "       PassengerId    Survived      Pclass         Sex         Age  \\\n",
       "count   891.000000  891.000000  891.000000  891.000000  714.000000   \n",
       "mean    446.000000    0.383838    2.308642    0.647587   29.699118   \n",
       "std     257.353842    0.486592    0.836071    0.477990   14.526497   \n",
       "min       1.000000    0.000000    1.000000    0.000000    0.420000   \n",
       "25%     223.500000    0.000000    2.000000    0.000000   20.125000   \n",
       "50%     446.000000    0.000000    3.000000    1.000000   28.000000   \n",
       "75%     668.500000    1.000000    3.000000    1.000000   38.000000   \n",
       "max     891.000000    1.000000    3.000000    1.000000   80.000000   \n",
       "\n",
       "            SibSp       Parch        Fare    Embarked  \n",
       "count  891.000000  891.000000  891.000000  889.000000  \n",
       "mean     0.523008    0.381594   32.204208    0.897638  \n",
       "std      1.102743    0.806057   49.693429    0.515181  \n",
       "min      0.000000    0.000000    0.000000    0.000000  \n",
       "25%      0.000000    0.000000    7.910400    1.000000  \n",
       "50%      0.000000    0.000000   14.454200    1.000000  \n",
       "75%      1.000000    0.000000   31.000000    1.000000  \n",
       "max      8.000000    6.000000  512.329200    2.000000  "
      ]
     },
     "execution_count": 9,
     "metadata": {},
     "output_type": "execute_result"
    }
   ],
   "source": [
    "data_train.describe()"
   ]
  },
  {
   "cell_type": "code",
   "execution_count": 10,
   "id": "937a9da1",
   "metadata": {
    "execution": {
     "iopub.execute_input": "2024-12-06T17:02:45.244064Z",
     "iopub.status.busy": "2024-12-06T17:02:45.243723Z",
     "iopub.status.idle": "2024-12-06T17:02:45.271487Z",
     "shell.execute_reply": "2024-12-06T17:02:45.270445Z"
    },
    "papermill": {
     "duration": 0.03705,
     "end_time": "2024-12-06T17:02:45.273651",
     "exception": false,
     "start_time": "2024-12-06T17:02:45.236601",
     "status": "completed"
    },
    "tags": []
   },
   "outputs": [
    {
     "data": {
      "text/html": [
       "<div>\n",
       "<style scoped>\n",
       "    .dataframe tbody tr th:only-of-type {\n",
       "        vertical-align: middle;\n",
       "    }\n",
       "\n",
       "    .dataframe tbody tr th {\n",
       "        vertical-align: top;\n",
       "    }\n",
       "\n",
       "    .dataframe thead th {\n",
       "        text-align: right;\n",
       "    }\n",
       "</style>\n",
       "<table border=\"1\" class=\"dataframe\">\n",
       "  <thead>\n",
       "    <tr style=\"text-align: right;\">\n",
       "      <th></th>\n",
       "      <th>PassengerId</th>\n",
       "      <th>Pclass</th>\n",
       "      <th>Sex</th>\n",
       "      <th>Age</th>\n",
       "      <th>SibSp</th>\n",
       "      <th>Parch</th>\n",
       "      <th>Fare</th>\n",
       "      <th>Embarked</th>\n",
       "    </tr>\n",
       "  </thead>\n",
       "  <tbody>\n",
       "    <tr>\n",
       "      <th>count</th>\n",
       "      <td>418.000000</td>\n",
       "      <td>418.000000</td>\n",
       "      <td>418.000000</td>\n",
       "      <td>332.000000</td>\n",
       "      <td>418.000000</td>\n",
       "      <td>418.000000</td>\n",
       "      <td>417.000000</td>\n",
       "      <td>418.000000</td>\n",
       "    </tr>\n",
       "    <tr>\n",
       "      <th>mean</th>\n",
       "      <td>1100.500000</td>\n",
       "      <td>2.265550</td>\n",
       "      <td>0.636364</td>\n",
       "      <td>30.272590</td>\n",
       "      <td>0.447368</td>\n",
       "      <td>0.392344</td>\n",
       "      <td>35.627188</td>\n",
       "      <td>0.866029</td>\n",
       "    </tr>\n",
       "    <tr>\n",
       "      <th>std</th>\n",
       "      <td>120.810458</td>\n",
       "      <td>0.841838</td>\n",
       "      <td>0.481622</td>\n",
       "      <td>14.181209</td>\n",
       "      <td>0.896760</td>\n",
       "      <td>0.981429</td>\n",
       "      <td>55.907576</td>\n",
       "      <td>0.580452</td>\n",
       "    </tr>\n",
       "    <tr>\n",
       "      <th>min</th>\n",
       "      <td>892.000000</td>\n",
       "      <td>1.000000</td>\n",
       "      <td>0.000000</td>\n",
       "      <td>0.170000</td>\n",
       "      <td>0.000000</td>\n",
       "      <td>0.000000</td>\n",
       "      <td>0.000000</td>\n",
       "      <td>0.000000</td>\n",
       "    </tr>\n",
       "    <tr>\n",
       "      <th>25%</th>\n",
       "      <td>996.250000</td>\n",
       "      <td>1.000000</td>\n",
       "      <td>0.000000</td>\n",
       "      <td>21.000000</td>\n",
       "      <td>0.000000</td>\n",
       "      <td>0.000000</td>\n",
       "      <td>7.895800</td>\n",
       "      <td>1.000000</td>\n",
       "    </tr>\n",
       "    <tr>\n",
       "      <th>50%</th>\n",
       "      <td>1100.500000</td>\n",
       "      <td>3.000000</td>\n",
       "      <td>1.000000</td>\n",
       "      <td>27.000000</td>\n",
       "      <td>0.000000</td>\n",
       "      <td>0.000000</td>\n",
       "      <td>14.454200</td>\n",
       "      <td>1.000000</td>\n",
       "    </tr>\n",
       "    <tr>\n",
       "      <th>75%</th>\n",
       "      <td>1204.750000</td>\n",
       "      <td>3.000000</td>\n",
       "      <td>1.000000</td>\n",
       "      <td>39.000000</td>\n",
       "      <td>1.000000</td>\n",
       "      <td>0.000000</td>\n",
       "      <td>31.500000</td>\n",
       "      <td>1.000000</td>\n",
       "    </tr>\n",
       "    <tr>\n",
       "      <th>max</th>\n",
       "      <td>1309.000000</td>\n",
       "      <td>3.000000</td>\n",
       "      <td>1.000000</td>\n",
       "      <td>76.000000</td>\n",
       "      <td>8.000000</td>\n",
       "      <td>9.000000</td>\n",
       "      <td>512.329200</td>\n",
       "      <td>2.000000</td>\n",
       "    </tr>\n",
       "  </tbody>\n",
       "</table>\n",
       "</div>"
      ],
      "text/plain": [
       "       PassengerId      Pclass         Sex         Age       SibSp  \\\n",
       "count   418.000000  418.000000  418.000000  332.000000  418.000000   \n",
       "mean   1100.500000    2.265550    0.636364   30.272590    0.447368   \n",
       "std     120.810458    0.841838    0.481622   14.181209    0.896760   \n",
       "min     892.000000    1.000000    0.000000    0.170000    0.000000   \n",
       "25%     996.250000    1.000000    0.000000   21.000000    0.000000   \n",
       "50%    1100.500000    3.000000    1.000000   27.000000    0.000000   \n",
       "75%    1204.750000    3.000000    1.000000   39.000000    1.000000   \n",
       "max    1309.000000    3.000000    1.000000   76.000000    8.000000   \n",
       "\n",
       "            Parch        Fare    Embarked  \n",
       "count  418.000000  417.000000  418.000000  \n",
       "mean     0.392344   35.627188    0.866029  \n",
       "std      0.981429   55.907576    0.580452  \n",
       "min      0.000000    0.000000    0.000000  \n",
       "25%      0.000000    7.895800    1.000000  \n",
       "50%      0.000000   14.454200    1.000000  \n",
       "75%      0.000000   31.500000    1.000000  \n",
       "max      9.000000  512.329200    2.000000  "
      ]
     },
     "execution_count": 10,
     "metadata": {},
     "output_type": "execute_result"
    }
   ],
   "source": [
    "data_test.describe()"
   ]
  },
  {
   "cell_type": "code",
   "execution_count": 11,
   "id": "0f0b9319",
   "metadata": {
    "execution": {
     "iopub.execute_input": "2024-12-06T17:02:45.287756Z",
     "iopub.status.busy": "2024-12-06T17:02:45.287450Z",
     "iopub.status.idle": "2024-12-06T17:02:45.300583Z",
     "shell.execute_reply": "2024-12-06T17:02:45.299404Z"
    },
    "papermill": {
     "duration": 0.023561,
     "end_time": "2024-12-06T17:02:45.303586",
     "exception": false,
     "start_time": "2024-12-06T17:02:45.280025",
     "status": "completed"
    },
    "tags": []
   },
   "outputs": [
    {
     "name": "stderr",
     "output_type": "stream",
     "text": [
      "/tmp/ipykernel_18/3743525073.py:1: FutureWarning: A value is trying to be set on a copy of a DataFrame or Series through chained assignment using an inplace method.\n",
      "The behavior will change in pandas 3.0. This inplace method will never work because the intermediate object on which we are setting values always behaves as a copy.\n",
      "\n",
      "For example, when doing 'df[col].method(value, inplace=True)', try using 'df.method({col: value}, inplace=True)' or df[col] = df[col].method(value) instead, to perform the operation inplace on the original object.\n",
      "\n",
      "\n",
      "  data_train[\"Age\"].fillna(data_train[\"Age\"].median(),inplace=True)\n",
      "/tmp/ipykernel_18/3743525073.py:2: FutureWarning: A value is trying to be set on a copy of a DataFrame or Series through chained assignment using an inplace method.\n",
      "The behavior will change in pandas 3.0. This inplace method will never work because the intermediate object on which we are setting values always behaves as a copy.\n",
      "\n",
      "For example, when doing 'df[col].method(value, inplace=True)', try using 'df.method({col: value}, inplace=True)' or df[col] = df[col].method(value) instead, to perform the operation inplace on the original object.\n",
      "\n",
      "\n",
      "  data_test[\"Age\"].fillna(data_test[\"Age\"].median(),inplace=True)\n",
      "/tmp/ipykernel_18/3743525073.py:4: FutureWarning: A value is trying to be set on a copy of a DataFrame or Series through chained assignment using an inplace method.\n",
      "The behavior will change in pandas 3.0. This inplace method will never work because the intermediate object on which we are setting values always behaves as a copy.\n",
      "\n",
      "For example, when doing 'df[col].method(value, inplace=True)', try using 'df.method({col: value}, inplace=True)' or df[col] = df[col].method(value) instead, to perform the operation inplace on the original object.\n",
      "\n",
      "\n",
      "  data_train['Embarked'].fillna(data_train['Embarked'].mode()[0] , inplace = True)\n",
      "/tmp/ipykernel_18/3743525073.py:5: FutureWarning: A value is trying to be set on a copy of a DataFrame or Series through chained assignment using an inplace method.\n",
      "The behavior will change in pandas 3.0. This inplace method will never work because the intermediate object on which we are setting values always behaves as a copy.\n",
      "\n",
      "For example, when doing 'df[col].method(value, inplace=True)', try using 'df.method({col: value}, inplace=True)' or df[col] = df[col].method(value) instead, to perform the operation inplace on the original object.\n",
      "\n",
      "\n",
      "  data_test[\"Fare\"].fillna(data_test[\"Fare\"].median(),inplace=True)\n"
     ]
    }
   ],
   "source": [
    "data_train[\"Age\"].fillna(data_train[\"Age\"].median(),inplace=True)\n",
    "data_test[\"Age\"].fillna(data_test[\"Age\"].median(),inplace=True)\n",
    "\n",
    "data_train['Embarked'].fillna(data_train['Embarked'].mode()[0] , inplace = True)\n",
    "data_test[\"Fare\"].fillna(data_test[\"Fare\"].median(),inplace=True)"
   ]
  },
  {
   "cell_type": "code",
   "execution_count": 12,
   "id": "41df1e78",
   "metadata": {
    "execution": {
     "iopub.execute_input": "2024-12-06T17:02:45.321719Z",
     "iopub.status.busy": "2024-12-06T17:02:45.321408Z",
     "iopub.status.idle": "2024-12-06T17:02:45.328769Z",
     "shell.execute_reply": "2024-12-06T17:02:45.327764Z"
    },
    "papermill": {
     "duration": 0.017784,
     "end_time": "2024-12-06T17:02:45.331455",
     "exception": false,
     "start_time": "2024-12-06T17:02:45.313671",
     "status": "completed"
    },
    "tags": []
   },
   "outputs": [
    {
     "name": "stdout",
     "output_type": "stream",
     "text": [
      "PassengerId      0\n",
      "Survived         0\n",
      "Pclass           0\n",
      "Name             0\n",
      "Sex              0\n",
      "Age              0\n",
      "SibSp            0\n",
      "Parch            0\n",
      "Ticket           0\n",
      "Fare             0\n",
      "Cabin          687\n",
      "Embarked         0\n",
      "dtype: int64 PassengerId      0\n",
      "Pclass           0\n",
      "Name             0\n",
      "Sex              0\n",
      "Age              0\n",
      "SibSp            0\n",
      "Parch            0\n",
      "Ticket           0\n",
      "Fare             0\n",
      "Cabin          327\n",
      "Embarked         0\n",
      "dtype: int64\n"
     ]
    }
   ],
   "source": [
    "print( data_train.isnull().sum() ,  data_test.isnull().sum() )"
   ]
  },
  {
   "cell_type": "code",
   "execution_count": 13,
   "id": "153597af",
   "metadata": {
    "execution": {
     "iopub.execute_input": "2024-12-06T17:02:45.348481Z",
     "iopub.status.busy": "2024-12-06T17:02:45.348105Z",
     "iopub.status.idle": "2024-12-06T17:02:45.355277Z",
     "shell.execute_reply": "2024-12-06T17:02:45.354239Z"
    },
    "papermill": {
     "duration": 0.018076,
     "end_time": "2024-12-06T17:02:45.357681",
     "exception": false,
     "start_time": "2024-12-06T17:02:45.339605",
     "status": "completed"
    },
    "tags": []
   },
   "outputs": [],
   "source": [
    "data_train = data_train.drop(columns = ['Name','Ticket','Cabin'])\n",
    "data_test = data_test.drop(columns = ['Name','Ticket','Cabin'])"
   ]
  },
  {
   "cell_type": "code",
   "execution_count": 14,
   "id": "de3b3ecb",
   "metadata": {
    "execution": {
     "iopub.execute_input": "2024-12-06T17:02:45.373218Z",
     "iopub.status.busy": "2024-12-06T17:02:45.372161Z",
     "iopub.status.idle": "2024-12-06T17:02:45.377979Z",
     "shell.execute_reply": "2024-12-06T17:02:45.376929Z"
    },
    "papermill": {
     "duration": 0.015451,
     "end_time": "2024-12-06T17:02:45.380010",
     "exception": false,
     "start_time": "2024-12-06T17:02:45.364559",
     "status": "completed"
    },
    "tags": []
   },
   "outputs": [],
   "source": [
    "y_train = data_train[\"Survived\"]\n",
    "data_train = data_train.drop(columns= \"Survived\") "
   ]
  },
  {
   "cell_type": "code",
   "execution_count": 15,
   "id": "09af9fdd",
   "metadata": {
    "execution": {
     "iopub.execute_input": "2024-12-06T17:02:45.394767Z",
     "iopub.status.busy": "2024-12-06T17:02:45.394432Z",
     "iopub.status.idle": "2024-12-06T17:02:45.405961Z",
     "shell.execute_reply": "2024-12-06T17:02:45.405065Z"
    },
    "papermill": {
     "duration": 0.0223,
     "end_time": "2024-12-06T17:02:45.409029",
     "exception": false,
     "start_time": "2024-12-06T17:02:45.386729",
     "status": "completed"
    },
    "tags": []
   },
   "outputs": [],
   "source": [
    "combined_df = pd.concat([data_train, data_test], ignore_index=True)\n",
    "combined_df = pd.get_dummies(combined_df, columns=['Sex', 'Embarked'], drop_first=True)\n",
    "\n",
    "df_encoded = combined_df.iloc[:len(data_train)]\n",
    "df_test_encoded = combined_df.iloc[len(data_train):]"
   ]
  },
  {
   "cell_type": "code",
   "execution_count": 16,
   "id": "932eec11",
   "metadata": {
    "execution": {
     "iopub.execute_input": "2024-12-06T17:02:45.424539Z",
     "iopub.status.busy": "2024-12-06T17:02:45.424140Z",
     "iopub.status.idle": "2024-12-06T17:02:46.667830Z",
     "shell.execute_reply": "2024-12-06T17:02:46.666675Z"
    },
    "papermill": {
     "duration": 1.254894,
     "end_time": "2024-12-06T17:02:46.670615",
     "exception": false,
     "start_time": "2024-12-06T17:02:45.415721",
     "status": "completed"
    },
    "tags": []
   },
   "outputs": [],
   "source": [
    "from sklearn.preprocessing import StandardScaler\n",
    "\n",
    "sc = StandardScaler()"
   ]
  },
  {
   "cell_type": "code",
   "execution_count": 17,
   "id": "0794b525",
   "metadata": {
    "execution": {
     "iopub.execute_input": "2024-12-06T17:02:46.687618Z",
     "iopub.status.busy": "2024-12-06T17:02:46.687277Z",
     "iopub.status.idle": "2024-12-06T17:02:46.698457Z",
     "shell.execute_reply": "2024-12-06T17:02:46.697129Z"
    },
    "papermill": {
     "duration": 0.021827,
     "end_time": "2024-12-06T17:02:46.700792",
     "exception": false,
     "start_time": "2024-12-06T17:02:46.678965",
     "status": "completed"
    },
    "tags": []
   },
   "outputs": [],
   "source": [
    "x_train = sc.fit_transform(data_train)\n",
    "x_test = sc.transform(data_test)"
   ]
  },
  {
   "cell_type": "code",
   "execution_count": 18,
   "id": "04f27482",
   "metadata": {
    "execution": {
     "iopub.execute_input": "2024-12-06T17:02:46.716080Z",
     "iopub.status.busy": "2024-12-06T17:02:46.715728Z",
     "iopub.status.idle": "2024-12-06T17:02:46.946113Z",
     "shell.execute_reply": "2024-12-06T17:02:46.945062Z"
    },
    "papermill": {
     "duration": 0.241088,
     "end_time": "2024-12-06T17:02:46.948784",
     "exception": false,
     "start_time": "2024-12-06T17:02:46.707696",
     "status": "completed"
    },
    "tags": []
   },
   "outputs": [],
   "source": [
    "from sklearn.linear_model import LogisticRegression \n",
    "log_reg = LogisticRegression()\n",
    "\n",
    "log_reg.fit(x_train,y_train)\n",
    "y_pred = log_reg.predict(x_test)"
   ]
  },
  {
   "cell_type": "code",
   "execution_count": 19,
   "id": "4097b6ef",
   "metadata": {
    "execution": {
     "iopub.execute_input": "2024-12-06T17:02:46.968982Z",
     "iopub.status.busy": "2024-12-06T17:02:46.968460Z",
     "iopub.status.idle": "2024-12-06T17:02:47.467421Z",
     "shell.execute_reply": "2024-12-06T17:02:47.466021Z"
    },
    "papermill": {
     "duration": 0.513149,
     "end_time": "2024-12-06T17:02:47.469797",
     "exception": false,
     "start_time": "2024-12-06T17:02:46.956648",
     "status": "completed"
    },
    "tags": []
   },
   "outputs": [],
   "source": [
    "from sklearn.ensemble import RandomForestClassifier\n",
    "rfc = RandomForestClassifier()\n",
    "\n",
    "rfc.fit(x_train,y_train)\n",
    "y_pred_rfc = rfc.predict(x_test)"
   ]
  },
  {
   "cell_type": "code",
   "execution_count": 20,
   "id": "d46e0e4b",
   "metadata": {
    "execution": {
     "iopub.execute_input": "2024-12-06T17:02:47.485002Z",
     "iopub.status.busy": "2024-12-06T17:02:47.484673Z",
     "iopub.status.idle": "2024-12-06T17:02:47.494515Z",
     "shell.execute_reply": "2024-12-06T17:02:47.493455Z"
    },
    "papermill": {
     "duration": 0.019925,
     "end_time": "2024-12-06T17:02:47.496713",
     "exception": false,
     "start_time": "2024-12-06T17:02:47.476788",
     "status": "completed"
    },
    "tags": []
   },
   "outputs": [],
   "source": [
    "from sklearn.tree import DecisionTreeClassifier\n",
    "dtc = DecisionTreeClassifier()\n",
    "\n",
    "dtc.fit(x_train,y_train)\n",
    "y_pred_dtc = dtc.predict(x_test)"
   ]
  },
  {
   "cell_type": "code",
   "execution_count": 21,
   "id": "dd6d0f20",
   "metadata": {
    "execution": {
     "iopub.execute_input": "2024-12-06T17:02:47.512052Z",
     "iopub.status.busy": "2024-12-06T17:02:47.511711Z",
     "iopub.status.idle": "2024-12-06T17:02:48.974548Z",
     "shell.execute_reply": "2024-12-06T17:02:48.973460Z"
    },
    "papermill": {
     "duration": 1.473143,
     "end_time": "2024-12-06T17:02:48.977002",
     "exception": false,
     "start_time": "2024-12-06T17:02:47.503859",
     "status": "completed"
    },
    "tags": []
   },
   "outputs": [],
   "source": [
    "import xgboost as xgb\n",
    "import lightgbm as lgb\n",
    "from catboost import CatBoostClassifier\n",
    "from sklearn.model_selection import GridSearchCV\n",
    "from sklearn.metrics import accuracy_score"
   ]
  },
  {
   "cell_type": "code",
   "execution_count": 22,
   "id": "d93e80f0",
   "metadata": {
    "execution": {
     "iopub.execute_input": "2024-12-06T17:02:48.992531Z",
     "iopub.status.busy": "2024-12-06T17:02:48.991993Z",
     "iopub.status.idle": "2024-12-06T17:03:30.041376Z",
     "shell.execute_reply": "2024-12-06T17:03:30.040254Z"
    },
    "papermill": {
     "duration": 41.067004,
     "end_time": "2024-12-06T17:03:30.051118",
     "exception": false,
     "start_time": "2024-12-06T17:02:48.984114",
     "status": "completed"
    },
    "tags": []
   },
   "outputs": [
    {
     "name": "stdout",
     "output_type": "stream",
     "text": [
      "Best Parameters: {'colsample_bytree': 1.0, 'learning_rate': 0.01, 'max_depth': 5, 'n_estimators': 200, 'subsample': 0.8}\n"
     ]
    }
   ],
   "source": [
    "param_grid = {\n",
    "    'learning_rate': [0.01, 0.05, 0.1],\n",
    "    'max_depth': [3, 5, 7],\n",
    "    'n_estimators': [50, 100, 200],\n",
    "    'subsample': [0.8, 1.0],\n",
    "    'colsample_bytree': [0.8, 1.0]\n",
    "}\n",
    "\n",
    "grid_search = GridSearchCV(xgb.XGBClassifier(random_state=42), param_grid, cv=5, scoring='accuracy')\n",
    "grid_search.fit(data_train, y_train)\n",
    "print(f\"Best Parameters: {grid_search.best_params_}\")"
   ]
  },
  {
   "cell_type": "code",
   "execution_count": 23,
   "id": "0cf393b3",
   "metadata": {
    "execution": {
     "iopub.execute_input": "2024-12-06T17:03:30.066965Z",
     "iopub.status.busy": "2024-12-06T17:03:30.066634Z",
     "iopub.status.idle": "2024-12-06T17:03:30.071704Z",
     "shell.execute_reply": "2024-12-06T17:03:30.070600Z"
    },
    "papermill": {
     "duration": 0.015132,
     "end_time": "2024-12-06T17:03:30.073717",
     "exception": false,
     "start_time": "2024-12-06T17:03:30.058585",
     "status": "completed"
    },
    "tags": []
   },
   "outputs": [],
   "source": [
    "xgb_model = xgb.XGBClassifier(\n",
    "    n_estimators = 200,\n",
    "    learning_rate = 0.01,\n",
    "    max_depth= 5,\n",
    "    subsample=0.8,  \n",
    "    colsample_bytree=1.0, \n",
    "    random_state=42\n",
    ")"
   ]
  },
  {
   "cell_type": "code",
   "execution_count": 24,
   "id": "8dfb5ee3",
   "metadata": {
    "execution": {
     "iopub.execute_input": "2024-12-06T17:03:30.088967Z",
     "iopub.status.busy": "2024-12-06T17:03:30.088609Z",
     "iopub.status.idle": "2024-12-06T17:03:30.218457Z",
     "shell.execute_reply": "2024-12-06T17:03:30.216091Z"
    },
    "papermill": {
     "duration": 0.140166,
     "end_time": "2024-12-06T17:03:30.220848",
     "exception": false,
     "start_time": "2024-12-06T17:03:30.080682",
     "status": "completed"
    },
    "tags": []
   },
   "outputs": [
    {
     "name": "stdout",
     "output_type": "stream",
     "text": [
      "XGBoost Accuracy: 0.8828\n"
     ]
    }
   ],
   "source": [
    "xgb_model.fit(data_train, y_train)\n",
    "xgb_pred = xgb_model.predict(data_test)\n",
    "xgb_acc = accuracy_score(sample_submission['Survived'], xgb_pred)\n",
    "print(f\"XGBoost Accuracy: {xgb_acc:.4f}\")"
   ]
  },
  {
   "cell_type": "code",
   "execution_count": 25,
   "id": "d5d7873e",
   "metadata": {
    "execution": {
     "iopub.execute_input": "2024-12-06T17:03:30.238449Z",
     "iopub.status.busy": "2024-12-06T17:03:30.238086Z",
     "iopub.status.idle": "2024-12-06T17:03:30.243116Z",
     "shell.execute_reply": "2024-12-06T17:03:30.242219Z"
    },
    "papermill": {
     "duration": 0.015267,
     "end_time": "2024-12-06T17:03:30.245089",
     "exception": false,
     "start_time": "2024-12-06T17:03:30.229822",
     "status": "completed"
    },
    "tags": []
   },
   "outputs": [],
   "source": [
    "lgb_model = lgb.LGBMClassifier(\n",
    "    n_estimators=100,\n",
    "    learning_rate=0.05,  # Küçük öğrenme oranı\n",
    "    max_depth=3,  # Derinliği sınırlama\n",
    "    subsample=0.8,  # Rastgele örneklem\n",
    "    colsample_bytree=0.8,  # Rastgele özellik seçimleri\n",
    "    random_state=42\n",
    ")\n"
   ]
  },
  {
   "cell_type": "code",
   "execution_count": 26,
   "id": "69acc652",
   "metadata": {
    "execution": {
     "iopub.execute_input": "2024-12-06T17:03:30.260777Z",
     "iopub.status.busy": "2024-12-06T17:03:30.260435Z",
     "iopub.status.idle": "2024-12-06T17:03:30.384514Z",
     "shell.execute_reply": "2024-12-06T17:03:30.382952Z"
    },
    "papermill": {
     "duration": 0.134442,
     "end_time": "2024-12-06T17:03:30.386830",
     "exception": false,
     "start_time": "2024-12-06T17:03:30.252388",
     "status": "completed"
    },
    "tags": []
   },
   "outputs": [
    {
     "name": "stdout",
     "output_type": "stream",
     "text": [
      "[LightGBM] [Info] Number of positive: 342, number of negative: 549\n",
      "[LightGBM] [Info] Auto-choosing row-wise multi-threading, the overhead of testing was 0.002262 seconds.\n",
      "You can set `force_row_wise=true` to remove the overhead.\n",
      "And if memory is not enough, you can set `force_col_wise=true`.\n",
      "[LightGBM] [Info] Total Bins 476\n",
      "[LightGBM] [Info] Number of data points in the train set: 891, number of used features: 8\n",
      "[LightGBM] [Info] [binary:BoostFromScore]: pavg=0.383838 -> initscore=-0.473288\n",
      "[LightGBM] [Info] Start training from score -0.473288\n",
      "[LightGBM] [Warning] No further splits with positive gain, best gain: -inf\n",
      "[LightGBM] [Warning] No further splits with positive gain, best gain: -inf\n",
      "[LightGBM] [Warning] No further splits with positive gain, best gain: -inf\n",
      "[LightGBM] [Warning] No further splits with positive gain, best gain: -inf\n",
      "[LightGBM] [Warning] No further splits with positive gain, best gain: -inf\n",
      "[LightGBM] [Warning] No further splits with positive gain, best gain: -inf\n",
      "[LightGBM] [Warning] No further splits with positive gain, best gain: -inf\n",
      "[LightGBM] [Warning] No further splits with positive gain, best gain: -inf\n",
      "[LightGBM] [Warning] No further splits with positive gain, best gain: -inf\n",
      "[LightGBM] [Warning] No further splits with positive gain, best gain: -inf\n",
      "[LightGBM] [Warning] No further splits with positive gain, best gain: -inf\n",
      "[LightGBM] [Warning] No further splits with positive gain, best gain: -inf\n",
      "[LightGBM] [Warning] No further splits with positive gain, best gain: -inf\n",
      "[LightGBM] [Warning] No further splits with positive gain, best gain: -inf\n",
      "[LightGBM] [Warning] No further splits with positive gain, best gain: -inf\n",
      "[LightGBM] [Warning] No further splits with positive gain, best gain: -inf\n",
      "[LightGBM] [Warning] No further splits with positive gain, best gain: -inf\n",
      "[LightGBM] [Warning] No further splits with positive gain, best gain: -inf\n",
      "[LightGBM] [Warning] No further splits with positive gain, best gain: -inf\n",
      "[LightGBM] [Warning] No further splits with positive gain, best gain: -inf\n",
      "[LightGBM] [Warning] No further splits with positive gain, best gain: -inf\n",
      "[LightGBM] [Warning] No further splits with positive gain, best gain: -inf\n",
      "[LightGBM] [Warning] No further splits with positive gain, best gain: -inf\n",
      "[LightGBM] [Warning] No further splits with positive gain, best gain: -inf\n",
      "[LightGBM] [Warning] No further splits with positive gain, best gain: -inf\n",
      "[LightGBM] [Warning] No further splits with positive gain, best gain: -inf\n",
      "[LightGBM] [Warning] No further splits with positive gain, best gain: -inf\n",
      "[LightGBM] [Warning] No further splits with positive gain, best gain: -inf\n",
      "[LightGBM] [Warning] No further splits with positive gain, best gain: -inf\n",
      "[LightGBM] [Warning] No further splits with positive gain, best gain: -inf\n",
      "[LightGBM] [Warning] No further splits with positive gain, best gain: -inf\n",
      "[LightGBM] [Warning] No further splits with positive gain, best gain: -inf\n",
      "[LightGBM] [Warning] No further splits with positive gain, best gain: -inf\n",
      "[LightGBM] [Warning] No further splits with positive gain, best gain: -inf\n",
      "[LightGBM] [Warning] No further splits with positive gain, best gain: -inf\n",
      "[LightGBM] [Warning] No further splits with positive gain, best gain: -inf\n",
      "[LightGBM] [Warning] No further splits with positive gain, best gain: -inf\n",
      "[LightGBM] [Warning] No further splits with positive gain, best gain: -inf\n",
      "[LightGBM] [Warning] No further splits with positive gain, best gain: -inf\n",
      "[LightGBM] [Warning] No further splits with positive gain, best gain: -inf\n",
      "[LightGBM] [Warning] No further splits with positive gain, best gain: -inf\n",
      "[LightGBM] [Warning] No further splits with positive gain, best gain: -inf\n",
      "[LightGBM] [Warning] No further splits with positive gain, best gain: -inf\n",
      "[LightGBM] [Warning] No further splits with positive gain, best gain: -inf\n",
      "[LightGBM] [Warning] No further splits with positive gain, best gain: -inf\n",
      "[LightGBM] [Warning] No further splits with positive gain, best gain: -inf\n",
      "[LightGBM] [Warning] No further splits with positive gain, best gain: -inf\n",
      "[LightGBM] [Warning] No further splits with positive gain, best gain: -inf\n",
      "[LightGBM] [Warning] No further splits with positive gain, best gain: -inf\n",
      "[LightGBM] [Warning] No further splits with positive gain, best gain: -inf\n",
      "[LightGBM] [Warning] No further splits with positive gain, best gain: -inf\n",
      "[LightGBM] [Warning] No further splits with positive gain, best gain: -inf\n",
      "[LightGBM] [Warning] No further splits with positive gain, best gain: -inf\n",
      "[LightGBM] [Warning] No further splits with positive gain, best gain: -inf\n",
      "[LightGBM] [Warning] No further splits with positive gain, best gain: -inf\n",
      "[LightGBM] [Warning] No further splits with positive gain, best gain: -inf\n",
      "[LightGBM] [Warning] No further splits with positive gain, best gain: -inf\n",
      "[LightGBM] [Warning] No further splits with positive gain, best gain: -inf\n",
      "[LightGBM] [Warning] No further splits with positive gain, best gain: -inf\n",
      "[LightGBM] [Warning] No further splits with positive gain, best gain: -inf\n",
      "[LightGBM] [Warning] No further splits with positive gain, best gain: -inf\n",
      "[LightGBM] [Warning] No further splits with positive gain, best gain: -inf\n",
      "[LightGBM] [Warning] No further splits with positive gain, best gain: -inf\n",
      "[LightGBM] [Warning] No further splits with positive gain, best gain: -inf\n",
      "[LightGBM] [Warning] No further splits with positive gain, best gain: -inf\n",
      "[LightGBM] [Warning] No further splits with positive gain, best gain: -inf\n",
      "[LightGBM] [Warning] No further splits with positive gain, best gain: -inf\n",
      "[LightGBM] [Warning] No further splits with positive gain, best gain: -inf\n",
      "[LightGBM] [Warning] No further splits with positive gain, best gain: -inf\n",
      "[LightGBM] [Warning] No further splits with positive gain, best gain: -inf\n",
      "[LightGBM] [Warning] No further splits with positive gain, best gain: -inf\n",
      "[LightGBM] [Warning] No further splits with positive gain, best gain: -inf\n",
      "[LightGBM] [Warning] No further splits with positive gain, best gain: -inf\n",
      "[LightGBM] [Warning] No further splits with positive gain, best gain: -inf\n",
      "[LightGBM] [Warning] No further splits with positive gain, best gain: -inf\n",
      "[LightGBM] [Warning] No further splits with positive gain, best gain: -inf\n",
      "[LightGBM] [Warning] No further splits with positive gain, best gain: -inf\n",
      "[LightGBM] [Warning] No further splits with positive gain, best gain: -inf\n",
      "[LightGBM] [Warning] No further splits with positive gain, best gain: -inf\n",
      "LightGBM Accuracy: 0.8708\n"
     ]
    }
   ],
   "source": [
    "lgb_model.fit(data_train, y_train)\n",
    "lgb_pred = lgb_model.predict(data_test)\n",
    "lgb_acc = accuracy_score(sample_submission['Survived'], lgb_pred)\n",
    "print(f\"LightGBM Accuracy: {lgb_acc:.4f}\")"
   ]
  },
  {
   "cell_type": "code",
   "execution_count": 27,
   "id": "d47319a4",
   "metadata": {
    "execution": {
     "iopub.execute_input": "2024-12-06T17:03:30.403022Z",
     "iopub.status.busy": "2024-12-06T17:03:30.402654Z",
     "iopub.status.idle": "2024-12-06T17:03:30.411102Z",
     "shell.execute_reply": "2024-12-06T17:03:30.409649Z"
    },
    "papermill": {
     "duration": 0.018951,
     "end_time": "2024-12-06T17:03:30.413381",
     "exception": false,
     "start_time": "2024-12-06T17:03:30.394430",
     "status": "completed"
    },
    "tags": []
   },
   "outputs": [],
   "source": [
    "cat_model = CatBoostClassifier(\n",
    "    iterations=100,\n",
    "    learning_rate=0.05,  # Küçük öğrenme oranı\n",
    "    depth=3,  # Derinliği sınırlama\n",
    "    random_seed=42,\n",
    "    subsample=0.8  # Rastgele örneklem\n",
    ")"
   ]
  },
  {
   "cell_type": "code",
   "execution_count": 28,
   "id": "d818f928",
   "metadata": {
    "execution": {
     "iopub.execute_input": "2024-12-06T17:03:30.430013Z",
     "iopub.status.busy": "2024-12-06T17:03:30.429636Z",
     "iopub.status.idle": "2024-12-06T17:03:30.625756Z",
     "shell.execute_reply": "2024-12-06T17:03:30.624623Z"
    },
    "papermill": {
     "duration": 0.207152,
     "end_time": "2024-12-06T17:03:30.627905",
     "exception": false,
     "start_time": "2024-12-06T17:03:30.420753",
     "status": "completed"
    },
    "tags": []
   },
   "outputs": [
    {
     "name": "stdout",
     "output_type": "stream",
     "text": [
      "CatBoost Accuracy: 0.9569\n"
     ]
    }
   ],
   "source": [
    "cat_model.fit(data_train, y_train, verbose=0)\n",
    "cat_pred = cat_model.predict(data_test)\n",
    "cat_acc = accuracy_score(sample_submission['Survived'], cat_pred)\n",
    "print(f\"CatBoost Accuracy: {cat_acc:.4f}\")"
   ]
  },
  {
   "cell_type": "code",
   "execution_count": 29,
   "id": "1272f458",
   "metadata": {
    "execution": {
     "iopub.execute_input": "2024-12-06T17:03:30.644009Z",
     "iopub.status.busy": "2024-12-06T17:03:30.643622Z",
     "iopub.status.idle": "2024-12-06T17:03:30.651975Z",
     "shell.execute_reply": "2024-12-06T17:03:30.650981Z"
    },
    "papermill": {
     "duration": 0.018907,
     "end_time": "2024-12-06T17:03:30.654085",
     "exception": false,
     "start_time": "2024-12-06T17:03:30.635178",
     "status": "completed"
    },
    "tags": []
   },
   "outputs": [],
   "source": [
    "submission = pd.DataFrame({'PassengerId':sample_submission['PassengerId'],'Survived':cat_pred})\n",
    "submission.to_csv('submission.csv',index=False)"
   ]
  }
 ],
 "metadata": {
  "kaggle": {
   "accelerator": "none",
   "dataSources": [
    {
     "databundleVersionId": 26502,
     "sourceId": 3136,
     "sourceType": "competition"
    }
   ],
   "dockerImageVersionId": 30698,
   "isGpuEnabled": false,
   "isInternetEnabled": false,
   "language": "python",
   "sourceType": "notebook"
  },
  "kernelspec": {
   "display_name": "Python 3",
   "language": "python",
   "name": "python3"
  },
  "language_info": {
   "codemirror_mode": {
    "name": "ipython",
    "version": 3
   },
   "file_extension": ".py",
   "mimetype": "text/x-python",
   "name": "python",
   "nbconvert_exporter": "python",
   "pygments_lexer": "ipython3",
   "version": "3.10.13"
  },
  "papermill": {
   "default_parameters": {},
   "duration": 50.523491,
   "end_time": "2024-12-06T17:03:31.382607",
   "environment_variables": {},
   "exception": null,
   "input_path": "__notebook__.ipynb",
   "output_path": "__notebook__.ipynb",
   "parameters": {},
   "start_time": "2024-12-06T17:02:40.859116",
   "version": "2.5.0"
  }
 },
 "nbformat": 4,
 "nbformat_minor": 5
}
